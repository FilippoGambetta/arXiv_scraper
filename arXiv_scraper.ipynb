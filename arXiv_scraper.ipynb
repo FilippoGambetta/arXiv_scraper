{
 "cells": [
  {
   "cell_type": "code",
   "execution_count": 1,
   "metadata": {},
   "outputs": [],
   "source": [
    "from bs4 import BeautifulSoup\n",
    "import requests\n",
    "import re"
   ]
  },
  {
   "cell_type": "markdown",
   "metadata": {},
   "source": [
    "# Classes and functions"
   ]
  },
  {
   "cell_type": "code",
   "execution_count": 2,
   "metadata": {},
   "outputs": [],
   "source": [
    "# Class paper\n",
    "\n",
    "class Paper(object):\n",
    "    \"\"\"\n",
    "    Class for arxiv papers. \n",
    "    \"\"\"\n",
    "    def __init__(self, identifier, title, author_list, abstract, replacement = False, print_abstract = False, max_authors = 3):\n",
    "        self.identifier = identifier\n",
    "        self.title = title\n",
    "        self.author_list = author_list\n",
    "        self.abstract = abstract\n",
    "        self.replacement = replacement\n",
    "        self.print_abstract = print_abstract\n",
    "        self.max_authors = max_authors\n",
    "        \n",
    "    def GetTitle(self):\n",
    "        return self.title\n",
    "    \n",
    "    def GetAuthors(self):\n",
    "        return selft.author_list\n",
    "    \n",
    "    def GetAbstract(self):\n",
    "        return self.abstract\n",
    "    \n",
    "    def GetUrl(self):\n",
    "        return \"https://arxiv.org/abs/\"+str(self.identifier)\n",
    "    \n",
    "    def IsReplacement(self):\n",
    "        return self.replacement\n",
    "    \n",
    "    def __str__(self):\n",
    "        paper_str = str(self.title) + \"\\n\"\n",
    "        ind_max = min(len(self.author_list), self.max_authors)\n",
    "        for ind in range(ind_max):\n",
    "            paper_str += self.author_list[ind]\n",
    "            if ind < (ind_max - 1):\n",
    "                paper_str += \", \"\n",
    "        if len(self.author_list)> self.max_authors:\n",
    "            paper_str += \" et al.\"\n",
    "        paper_str += \"\\n\"+self.GetUrl()\n",
    "        if self.print_abstract: \n",
    "            paper_str += \"\\n\" + self.abstract[:500]\n",
    "        return paper_str"
   ]
  },
  {
   "cell_type": "code",
   "execution_count": 5,
   "metadata": {},
   "outputs": [],
   "source": [
    "# Functions\n",
    "\n",
    "def SearchNewPapers(urls, Keywords_vect, print_abstract = False, print_replacement = False):\n",
    "    for url in urls:\n",
    "        html = requests.get(url).text\n",
    "        soup = BeautifulSoup(html, 'html5lib')\n",
    "\n",
    "        # Building the lists of numbers and paper identifiers\n",
    "        all_dt = soup('dt') # numbers and identifiers are contained in dt sections\n",
    "\n",
    "        all_numbers = [a for dt in all_dt for a in dt('a') if a.has_attr('name')]\n",
    "        all_numbers_list = [a.text.split()[0] for a in all_numbers]\n",
    "\n",
    "        all_identifiers = [a for dt in all_dt for a in dt('a') if a.has_attr('href')]\n",
    "        all_identifiers_list_tmp = [identifier.text.split()[0] for identifier in all_identifiers]\n",
    "\n",
    "        regex=r\"^arXiv\"\n",
    "        all_identifiers_list = [identifier.replace(\"arXiv:\",\"\") for identifier in all_identifiers_list_tmp if re.match(regex,identifier)]\n",
    "\n",
    "        # Building the list of titles, authors, and abstracts\n",
    "        all_dd = soup('dd') # titles, authors, and abstracts are contained in dd sections\n",
    "\n",
    "        all_titles = [div for dd in all_dd for div in dd('div','list-title mathjax')]\n",
    "        all_authors = [div for dd in all_dd for div in dd('div','list-authors')]\n",
    "        all_abstracts = [p for dd in all_dd for p in dd('p','mathjax')]\n",
    "\n",
    "        all_titles_list = [title.text.lower().replace(\"\\n\",\"\").replace(\"title: \",\"\").replace(\"  \",\" \") for title in all_titles]\n",
    "        all_authors_list = [authors.text.lower().replace(\"\\n\",\"\").replace(\"authors: \",\"\").replace(\"  \",\" \").split(\", \") for authors in all_authors]\n",
    "        all_abstracts_list = [abstract.text.lower().replace(\"\\n\",\"\").replace(\"  \",\" \") for abstract in all_abstracts]\n",
    "\n",
    "        # Search for keywords in titles, authors, and abstract\n",
    "\n",
    "        interesting_papers = set()\n",
    "\n",
    "        for keyword in Keywords_vect:\n",
    "            #print(\"I'm looking for papers containing: \", keyword)\n",
    "\n",
    "            interesting_titles = set([index for index, title in enumerate(all_titles_list) if keyword in title])\n",
    "            interesting_authors = set([index for index, author in enumerate(all_authors_list) if keyword in author])\n",
    "            interesting_abstract = set([index for index, abstract in enumerate(all_abstracts_list) if keyword in abstract])\n",
    "\n",
    "            interesting_papers = interesting_papers.union(interesting_titles, interesting_authors,interesting_abstract)\n",
    "\n",
    "        interesting_papers_list = sorted(interesting_papers)\n",
    "\n",
    "        # Build output with link to the paper\n",
    "\n",
    "        # Take care of replacements\n",
    "        new_papers = len(all_abstracts_list)\n",
    "        total_papers = len(all_identifiers_list)\n",
    "\n",
    "        all_abstracts_list_full = all_abstracts_list\n",
    "        for item in range(new_papers,total_papers):\n",
    "            all_abstracts_list_full.append(\"This paper is a replacement.\")\n",
    "\n",
    "        # Print result\n",
    "\n",
    "        print(\"Today in\", url,\"there are\", new_papers, \"new papers and\", total_papers-new_papers+1, \"replacements.\\n\\n\")\n",
    "\n",
    "        todays_papers = []\n",
    "        for item in interesting_papers_list:\n",
    "            if item <= new_papers:\n",
    "                replacement = False\n",
    "            else: \n",
    "                replacement = True\n",
    "            paper = Paper(all_identifiers_list[item], all_titles_list[item], all_authors_list[item], all_abstracts_list[item], replacement, print_abstract)\n",
    "            todays_papers.append(paper)\n",
    "\n",
    "        new_interesting_papers = 0\n",
    "        for paper in todays_papers:\n",
    "            if not paper.IsReplacement():\n",
    "                new_interesting_papers += 1\n",
    "\n",
    "        print(\"There are\",new_interesting_papers,\"new interesting papers and\", len(todays_papers)-new_interesting_papers,\"replacements. \\n\")\n",
    "\n",
    "        for ind, paper in enumerate(todays_papers):\n",
    "            if not paper.IsReplacement():\n",
    "                print(str(ind+1)+\")\")\n",
    "                print(paper,\"\\n\")\n",
    "\n",
    "\n",
    "        print(\"\\n************************************\\n\")"
   ]
  },
  {
   "cell_type": "markdown",
   "metadata": {},
   "source": [
    "# Main program"
   ]
  },
  {
   "cell_type": "code",
   "execution_count": 6,
   "metadata": {},
   "outputs": [
    {
     "output_type": "stream",
     "name": "stdout",
     "text": "['superconductivity', 'machine learning', 'time crystal', 'nonequilibrium', 'non-equilibrium', 'non equilibrium', 'rydberg', 'gambetta', 'garrahan', 'foot', 'oreg', 'lesanovsky', 'weibin li']\n"
    }
   ],
   "source": [
    "#Import keywords from txt file\n",
    "#Format: Insert keywords as new lines. Lines beginning with # will be ignored. Check if there are accidental white space at the end of each entry!\n",
    "\n",
    "Keywords_vect=[]\n",
    "\n",
    "with open('Keywords.txt') as file_for_reading:\n",
    "    for line in file_for_reading:\n",
    "        if not re.match('^#', line) and line.strip()!='':\n",
    "            Keywords_vect.append(line.strip().lower())\n",
    "\n",
    "print(Keywords_vect)"
   ]
  },
  {
   "cell_type": "code",
   "execution_count": 7,
   "metadata": {},
   "outputs": [
    {
     "output_type": "stream",
     "name": "stdout",
     "text": "Today in https://arxiv.org/list/cond-mat/new there are 85 new papers and 33 replacements.\n\n\nThere are 12 new interesting papers and 2 replacements. \n\n1)\nout-of-equilibrium simulations of a classical gas with bose-einstein statistics\nmarisel di pietro martínez, miguel hoyuelos\nhttps://arxiv.org/abs/2006.06133 \n\n2)\non-the-fly closed-loop autonomous materials discovery via bayesian active learning\na. gilad kusne, heshan yu, changming wu et al.\nhttps://arxiv.org/abs/2006.06141 \n\n3)\ncollective excitations and nonequilibrium phase transition in dissipative fermionic superfluids\nkazuki yamamoto, masaya nakagawa, naoto tsuji et al.\nhttps://arxiv.org/abs/2006.06169 \n\n4)\nobservation of a strongly ferromagnetic spinor bose-einstein condensate\nseungjung huh, kyungtae kim, kiryang kwon et al.\nhttps://arxiv.org/abs/2006.06228 \n\n5)\nleading theories of the cuprate superconductivity: a critique\nnavinder singh\nhttps://arxiv.org/abs/2006.06335 \n\n6)\nmagnetic monopoles and superinsulation in josephson junction arrays\nc.a.trugenberger, m.c.diamantini, n.poccia et al.\nhttps://arxiv.org/abs/2006.06477 \n\n7)\nexact solution of the floquet-pxp cellular automaton\njoseph w. p. wilkinson, katja klobas, tomaž prosen et al.\nhttps://arxiv.org/abs/2006.06556 \n\n8)\nsynthesis of large-area rhombohedral few-layer graphene by chemical vapor deposition on copper\nchamseddine bouhafs, sergio pezzini, neeraj mishra et al.\nhttps://arxiv.org/abs/2006.06667 \n\n9)\ndynamical interplay between a single hole and a hubbard antiferromagnet\ngeoffrey ji, muqing xu, lev haldar kendrick et al.\nhttps://arxiv.org/abs/2006.06672 \n\n10)\nhigher-order interactions in statistical physics and machine learning: a non-parametric solution to the inverse problem\nsjoerd viktor beentjes, ava khamseh\nhttps://arxiv.org/abs/2006.06010 \n\n11)\nmachine learning model to cluster and map tribocorrosion regimes in feature space\nrahul ramachandran\nhttps://arxiv.org/abs/2006.06252 \n\n12)\nasymptotic errors for teacher-student convex generalized linear models (or : how to prove kabashima's replica formula)\ncedric gerbelot, alia abbara, florent krzakala\nhttps://arxiv.org/abs/2006.06581 \n\n\n************************************\n\nToday in https://arxiv.org/list/quant-ph/new there are 31 new papers and 20 replacements.\n\n\nThere are 5 new interesting papers and 1 replacements. \n\n1)\nloss-of-entanglement prediction of a controlled-phase gate in the framework of steepest-entropy-ascent quantum thermodynamics\nj. a. montañez-barrera, cesar e. damian-ascencio, michael r. von spakovsky et al.\nhttps://arxiv.org/abs/2006.06092 \n\n2)\nrydberg antiblockade with resonant dipole-dipole interactions\nshi-lei su\nhttps://arxiv.org/abs/2006.06529 \n\n3)\nquantum inspired k-means algorithm using matrix product states\nxiao shi, yun shang, chu guo\nhttps://arxiv.org/abs/2006.06164 \n\n4)\ncollective excitations and nonequilibrium phase transition in dissipative fermionic superfluids\nkazuki yamamoto, masaya nakagawa, naoto tsuji et al.\nhttps://arxiv.org/abs/2006.06169 \n\n5)\ndynamical interplay between a single hole and a hubbard antiferromagnet\ngeoffrey ji, muqing xu, lev haldar kendrick et al.\nhttps://arxiv.org/abs/2006.06672 \n\n\n************************************\n\nToday in https://arxiv.org/list/physics/new there are 99 new papers and 37 replacements.\n\n\nThere are 8 new interesting papers and 0 replacements. \n\n1)\nquantum inspired k-means algorithm using matrix product states\nxiao shi, yun shang, chu guo\nhttps://arxiv.org/abs/2006.06164 \n\n2)\nmachine learning model to cluster and map tribocorrosion regimes in feature space\nrahul ramachandran\nhttps://arxiv.org/abs/2006.06252 \n\n3)\nthermodynamic validity criterion for the irreversible michaelis-menten equation\nvalérie voorsluijs, francesco avanzini, massimiliano esposito\nhttps://arxiv.org/abs/2006.06476 \n\n4)\nsuperconducting radio-frequency cavity fault classification using machine learning at jefferson laboratory\nchris tennant, adam carpenter, tom powers et al.\nhttps://arxiv.org/abs/2006.06562 \n\n5)\nprecise mapping, spatial structure and classification of all the human settlements on earth\nemanuele strano, filippo simini, marco de nadai et al.\nhttps://arxiv.org/abs/2006.06584 \n\n6)\nhigher-order interactions in statistical physics and machine learning: a non-parametric solution to the inverse problem\nsjoerd viktor beentjes, ava khamseh\nhttps://arxiv.org/abs/2006.06010 \n\n7)\naccelerating linear solvers for large-scale stokes problems with c++ metaprogramming\ndenis demidov, lin mu, bin wang\nhttps://arxiv.org/abs/2006.06052 \n\n8)\nloss-of-entanglement prediction of a controlled-phase gate in the framework of steepest-entropy-ascent quantum thermodynamics\nj. a. montañez-barrera, cesar e. damian-ascencio, michael r. von spakovsky et al.\nhttps://arxiv.org/abs/2006.06092 \n\n\n************************************\n\n"
    }
   ],
   "source": [
    "urls  = [\"https://arxiv.org/list/cond-mat/new\",\"https://arxiv.org/list/quant-ph/new\",\"https://arxiv.org/list/physics/new\"]\n",
    "\n",
    "print_abstract = False\n",
    "print_replacement = False\n",
    "SearchNewPapers(urls, Keywords_vect, print_abstract, print_replacement)"
   ]
  }
 ],
 "metadata": {
  "kernelspec": {
   "display_name": "Python (dsfs)",
   "language": "python",
   "name": "dsfs"
  },
  "language_info": {
   "codemirror_mode": {
    "name": "ipython",
    "version": 3
   },
   "file_extension": ".py",
   "mimetype": "text/x-python",
   "name": "python",
   "nbconvert_exporter": "python",
   "pygments_lexer": "ipython3",
   "version": "3.6.9-final"
  }
 },
 "nbformat": 4,
 "nbformat_minor": 4
}